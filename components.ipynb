{
 "cells": [
  {
   "cell_type": "code",
   "execution_count": 1,
   "metadata": {},
   "outputs": [
    {
     "name": "stdout",
     "output_type": "stream",
     "text": "Requirement already satisfied: opencv-contrib-python in ./.conda/lib/python3.10/site-packages (4.7.0.72)\r\nRequirement already satisfied: numpy>=1.21.2 in ./.conda/lib/python3.10/site-packages (from opencv-contrib-python) (1.25.0)\r\n"
    }
   ],
   "source": "!pip install opencv-contrib-python\nimport cv2\nimport numpy as np\n"
  },
  {
   "cell_type": "code",
   "execution_count": null,
   "metadata": {},
   "outputs": [],
   "source": "# Loading the image\nimg = cv2.imread('/media/data_16T/chloe/sidewalkai/massave.png')\n\n# preprocess the image\ngray_img = cv2.cvtColor(img , cv2.COLOR_BGR2GRAY)\n\n# Applying 7x7 Gaussian Blur\nblurred = cv2.GaussianBlur(gray_img, (7, 7), 0)\n\n# Applying threshold\nthreshold = cv2.threshold(blurred, 0, 255,\n\tcv2.THRESH_BINARY_INV | cv2.THRESH_OTSU)[1]\n\n# Apply the Component analysis function\nanalysis = cv2.connectedComponentsWithStats(threshold,\n\t\t\t\t\t\t\t\t\t\t\t4,\n\t\t\t\t\t\t\t\t\t\t\tcv2.CV_32S)\n(totalLabels, label_ids, values, centroid) = analysis\n\n# Initialize a new image to store\n# all the output components\noutput = np.zeros(gray_img.shape, dtype=\"uint8\")\n\n# Loop through each component\nfor i in range(1, totalLabels):\n\t\n\t# Area of the component\n\tarea = values[i, cv2.CC_STAT_AREA]\n\t\n\tif (area > 140) and (area < 400):\n\t\tcomponentMask = (label_ids == i).astype(\"uint8\") * 255\n\t\toutput = cv2.bitwise_or(output, componentMask)\n\n\ncv2.imshow(\"Image\", img)\ncv2.imshow(\"Filtered Components\", output)\ncv2.waitKey(0)\n\n"
  },
  {
   "cell_type": "code",
   "execution_count": null,
   "metadata": {},
   "outputs": [],
   "source": ""
  }
 ],
 "metadata": {
  "kernelspec": {
   "display_name": "Python 3",
   "language": "python",
   "name": "python3"
  },
  "language_info": {
   "codemirror_mode": {
    "name": "ipython",
    "version": 3
   },
   "file_extension": ".py",
   "mimetype": "text/x-python",
   "name": "python",
   "nbconvert_exporter": "python",
   "pygments_lexer": "ipython3",
   "version": "3.6.9"
  }
 },
 "nbformat": 4,
 "nbformat_minor": 2
}
